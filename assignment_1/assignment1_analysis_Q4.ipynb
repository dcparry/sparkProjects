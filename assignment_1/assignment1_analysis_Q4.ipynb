{
 "cells": [
  {
   "cell_type": "markdown",
   "metadata": {},
   "source": [
    "### Spark notebook ###\n",
    "\n",
    "This notebook will only work in a Jupyter session running on `mathmadslinux2p`.\n",
    "\n",
    "You can start your own Jupyter session on `mathmadslinux2p` and open this notebook in Chrome on the MADS Windows server by\n",
    "\n",
    "**Steps**\n",
    "\n",
    "1. Login to the MADS Windows server using https://mathportal.canterbury.ac.nz/.\n",
    "2. Download or copy this notebook to your home directory.\n",
    "3. Open powershell and run `ssh mathmadslinux2p`.\n",
    "4. Run `start_pyspark_notebook` or `/opt/anaconda3/bin/jupyter-notebook --ip 132.181.129.68 --port $((8000 + $((RANDOM % 999))))`.\n",
    "5. Copy / paste the url provided in the shell window into Chrome on the MADS Windows server.\n",
    "6. Open the notebook from the Jupyter root directory (which is your home directory).\n",
    "7. Run `start_spark()` to start a spark session in the notebook.\n",
    "8. Run `stop_spark()` before closing the notebook or kill your spark application by hand using the link in the Spark UI."
   ]
  },
  {
   "cell_type": "code",
   "execution_count": 27,
   "metadata": {
    "scrolled": true
   },
   "outputs": [
    {
     "data": {
      "text/html": [
       "<style>pre { white-space: pre !important; }table.dataframe td { white-space: nowrap !important; }table.dataframe thead th:first-child, table.dataframe tbody th { display: none; }</style>"
      ],
      "text/plain": [
       "<IPython.core.display.HTML object>"
      ]
     },
     "metadata": {},
     "output_type": "display_data"
    }
   ],
   "source": [
    "# Run this cell to import pyspark and to define start_spark() and stop_spark()\n",
    "\n",
    "import findspark\n",
    "\n",
    "findspark.init()\n",
    "\n",
    "import getpass\n",
    "import pandas\n",
    "import pyspark\n",
    "import random\n",
    "import re\n",
    "\n",
    "from IPython.display import display, HTML\n",
    "from pyspark import SparkContext\n",
    "from pyspark.sql import SparkSession\n",
    "\n",
    "\n",
    "# Functions used below\n",
    "\n",
    "def username():\n",
    "    \"\"\"Get username with any domain information removed.\n",
    "    \"\"\"\n",
    "\n",
    "    return re.sub('@.*', '', getpass.getuser())\n",
    "\n",
    "\n",
    "def dict_to_html(d):\n",
    "    \"\"\"Convert a Python dictionary into a two column table for display.\n",
    "    \"\"\"\n",
    "\n",
    "    html = []\n",
    "\n",
    "    html.append(f'<table width=\"100%\" style=\"width:100%; font-family: monospace;\">')\n",
    "    for k, v in d.items():\n",
    "        html.append(f'<tr><td style=\"text-align:left;\">{k}</td><td>{v}</td></tr>')\n",
    "    html.append(f'</table>')\n",
    "\n",
    "    return ''.join(html)\n",
    "\n",
    "\n",
    "def show_as_html(df, n=20):\n",
    "    \"\"\"Leverage existing pandas jupyter integration to show a spark dataframe as html.\n",
    "    \n",
    "    Args:\n",
    "        n (int): number of rows to show (default: 20)\n",
    "    \"\"\"\n",
    "\n",
    "    display(df.limit(n).toPandas())\n",
    "\n",
    "    \n",
    "def display_spark():\n",
    "    \"\"\"Display the status of the active Spark session if one is currently running.\n",
    "    \"\"\"\n",
    "    \n",
    "    if 'spark' in globals() and 'sc' in globals():\n",
    "\n",
    "        name = sc.getConf().get(\"spark.app.name\")\n",
    "        \n",
    "        html = [\n",
    "            f'<p><b>Spark</b></p>',\n",
    "            f'<p>The spark session is <b><span style=\"color:green\">active</span></b>, look for <code>{name}</code> under the running applications section in the Spark UI.</p>',\n",
    "            f'<ul>',\n",
    "            f'<li><a href=\"http://mathmadslinux2p.canterbury.ac.nz:8080/\" target=\"_blank\">Spark UI</a></li>',\n",
    "            f'<li><a href=\"{sc.uiWebUrl}\" target=\"_blank\">Spark Application UI</a></li>',\n",
    "            f'</ul>',\n",
    "            f'<p><b>Config</b></p>',\n",
    "            dict_to_html(dict(sc.getConf().getAll())),\n",
    "            f'<p><b>Notes</b></p>',\n",
    "            f'<ul>',\n",
    "            f'<li>The spark session <code>spark</code> and spark context <code>sc</code> global variables have been defined by <code>start_spark()</code>.</li>',\n",
    "            f'<li>Please run <code>stop_spark()</code> before closing the notebook or restarting the kernel or kill <code>{name}</code> by hand using the link in the Spark UI.</li>',\n",
    "            f'</ul>',\n",
    "        ]\n",
    "        display(HTML(''.join(html)))\n",
    "        \n",
    "    else:\n",
    "        \n",
    "        html = [\n",
    "            f'<p><b>Spark</b></p>',\n",
    "            f'<p>The spark session is <b><span style=\"color:red\">stopped</span></b>, confirm that <code>{username() + \" (jupyter)\"}</code> is under the completed applications section in the Spark UI.</p>',\n",
    "            f'<ul>',\n",
    "            f'<li><a href=\"http://mathmadslinux2p.canterbury.ac.nz:8080/\" target=\"_blank\">Spark UI</a></li>',\n",
    "            f'</ul>',\n",
    "        ]\n",
    "        display(HTML(''.join(html)))\n",
    "\n",
    "\n",
    "# Functions to start and stop spark\n",
    "\n",
    "def start_spark(executor_instances=2, executor_cores=1, worker_memory=1, master_memory=1):\n",
    "    \"\"\"Start a new Spark session and define globals for SparkSession (spark) and SparkContext (sc).\n",
    "    \n",
    "    Args:\n",
    "        executor_instances (int): number of executors (default: 2)\n",
    "        executor_cores (int): number of cores per executor (default: 1)\n",
    "        worker_memory (float): worker memory (default: 1)\n",
    "        master_memory (float): master memory (default: 1)\n",
    "    \"\"\"\n",
    "\n",
    "    global spark\n",
    "    global sc\n",
    "\n",
    "    user = username()\n",
    "    \n",
    "    cores = executor_instances * executor_cores\n",
    "    partitions = cores * 4\n",
    "    port = 4000 + random.randint(1, 999)\n",
    "\n",
    "    spark = (\n",
    "        SparkSession.builder\n",
    "        .master(\"spark://masternode2:7077\")\n",
    "        .config(\"spark.driver.extraJavaOptions\", f\"-Dderby.system.home=/tmp/{user}/spark/\")\n",
    "        .config(\"spark.dynamicAllocation.enabled\", \"false\")\n",
    "        .config(\"spark.executor.instances\", str(executor_instances))\n",
    "        .config(\"spark.executor.cores\", str(executor_cores))\n",
    "        .config(\"spark.cores.max\", str(cores))\n",
    "        .config(\"spark.executor.memory\", f\"{worker_memory}g\")\n",
    "        .config(\"spark.driver.memory\", f\"{master_memory}g\")\n",
    "        .config(\"spark.driver.maxResultSize\", \"0\")\n",
    "        .config(\"spark.sql.shuffle.partitions\", str(partitions))\n",
    "        .config(\"spark.ui.port\", str(port))\n",
    "        .appName(user + \" (jupyter)\")\n",
    "        .getOrCreate()\n",
    "    )\n",
    "    sc = SparkContext.getOrCreate()\n",
    "    \n",
    "    display_spark()\n",
    "\n",
    "    \n",
    "def stop_spark():\n",
    "    \"\"\"Stop the active Spark session and delete globals for SparkSession (spark) and SparkContext (sc).\n",
    "    \"\"\"\n",
    "\n",
    "    global spark\n",
    "    global sc\n",
    "\n",
    "    if 'spark' in globals() and 'sc' in globals():\n",
    "\n",
    "        spark.stop()\n",
    "\n",
    "        del spark\n",
    "        del sc\n",
    "\n",
    "    display_spark()\n",
    "\n",
    "\n",
    "# Make css changes to improve spark output readability\n",
    "\n",
    "html = [\n",
    "    '<style>',\n",
    "    'pre { white-space: pre !important; }',\n",
    "    'table.dataframe td { white-space: nowrap !important; }',\n",
    "    'table.dataframe thead th:first-child, table.dataframe tbody th { display: none; }',\n",
    "    '</style>',\n",
    "]\n",
    "display(HTML(''.join(html)))"
   ]
  },
  {
   "cell_type": "markdown",
   "metadata": {},
   "source": [
    "### Example notebook ###\n",
    "\n",
    "The code below provides a template for how you would use a notebook to start spark, run some code, and then stop spark.\n",
    "\n",
    "**Steps**\n",
    "\n",
    "- Run `start_spark()` to start a spark session in the notebook (only change the default resources when advised to do so for an exercise or assignment)\n",
    "- Write and run code interactively, creating additional cells as needed.\n",
    "- Run `stop_spark()` before closing the notebook or kill your spark application by hand using the link in the [Spark UI](http://mathmadslinux2p.canterbury.ac.nz:8080/)."
   ]
  },
  {
   "cell_type": "code",
   "execution_count": 28,
   "metadata": {
    "scrolled": true
   },
   "outputs": [
    {
     "data": {
      "text/html": [
       "<p><b>Spark</b></p><p>The spark session is <b><span style=\"color:green\">active</span></b>, look for <code>dcp31 (jupyter)</code> under the running applications section in the Spark UI.</p><ul><li><a href=\"http://mathmadslinux2p.canterbury.ac.nz:8080/\" target=\"_blank\">Spark UI</a></li><li><a href=\"http://mathmadslinux2p.canterbury.ac.nz:4456\" target=\"_blank\">Spark Application UI</a></li></ul><p><b>Config</b></p><table width=\"100%\" style=\"width:100%; font-family: monospace;\"><tr><td style=\"text-align:left;\">spark.dynamicAllocation.enabled</td><td>false</td></tr><tr><td style=\"text-align:left;\">spark.ui.port</td><td>4456</td></tr><tr><td style=\"text-align:left;\">spark.sql.warehouse.dir</td><td>file:/users/home/dcp31/assignment_1/spark-warehouse</td></tr><tr><td style=\"text-align:left;\">spark.master</td><td>spark://masternode2:7077</td></tr><tr><td style=\"text-align:left;\">spark.app.name</td><td>dcp31 (jupyter)</td></tr><tr><td style=\"text-align:left;\">spark.executor.id</td><td>driver</td></tr><tr><td style=\"text-align:left;\">spark.executor.instances</td><td>8</td></tr><tr><td style=\"text-align:left;\">spark.driver.port</td><td>33175</td></tr><tr><td style=\"text-align:left;\">spark.driver.host</td><td>mathmadslinux2p.canterbury.ac.nz</td></tr><tr><td style=\"text-align:left;\">spark.app.startTime</td><td>1714302082113</td></tr><tr><td style=\"text-align:left;\">spark.driver.extraJavaOptions</td><td>-Dderby.system.home=/tmp/dcp31/spark/</td></tr><tr><td style=\"text-align:left;\">spark.executor.cores</td><td>4</td></tr><tr><td style=\"text-align:left;\">spark.rdd.compress</td><td>True</td></tr><tr><td style=\"text-align:left;\">spark.driver.memory</td><td>8g</td></tr><tr><td style=\"text-align:left;\">spark.serializer.objectStreamReset</td><td>100</td></tr><tr><td style=\"text-align:left;\">spark.driver.maxResultSize</td><td>0</td></tr><tr><td style=\"text-align:left;\">spark.executor.memory</td><td>8g</td></tr><tr><td style=\"text-align:left;\">spark.submit.pyFiles</td><td></td></tr><tr><td style=\"text-align:left;\">spark.submit.deployMode</td><td>client</td></tr><tr><td style=\"text-align:left;\">spark.app.id</td><td>app-20240428230122-0241</td></tr><tr><td style=\"text-align:left;\">spark.sql.shuffle.partitions</td><td>128</td></tr><tr><td style=\"text-align:left;\">spark.ui.showConsoleProgress</td><td>true</td></tr><tr><td style=\"text-align:left;\">spark.cores.max</td><td>32</td></tr></table><p><b>Notes</b></p><ul><li>The spark session <code>spark</code> and spark context <code>sc</code> global variables have been defined by <code>start_spark()</code>.</li><li>Please run <code>stop_spark()</code> before closing the notebook or restarting the kernel or kill <code>dcp31 (jupyter)</code> by hand using the link in the Spark UI.</li></ul>"
      ],
      "text/plain": [
       "<IPython.core.display.HTML object>"
      ]
     },
     "metadata": {},
     "output_type": "display_data"
    }
   ],
   "source": [
    "# Run this cell to start a spark session in this notebook\n",
    "\n",
    "#start_spark(executor_instances=4, executor_cores=2, worker_memory=4, master_memory=4)\n",
    "\n",
    "start_spark(executor_instances=8, executor_cores=4, worker_memory=8, master_memory=8)"
   ]
  },
  {
   "cell_type": "code",
   "execution_count": 29,
   "metadata": {
    "scrolled": true
   },
   "outputs": [],
   "source": [
    "# Write your imports here or insert cells below\n",
    "\n",
    "from pyspark.sql import functions as F\n",
    "from pyspark.sql.types import *"
   ]
  },
  {
   "cell_type": "markdown",
   "metadata": {},
   "source": [
    "## Analysis Question 4\n",
    "### Q4 (a)"
   ]
  },
  {
   "cell_type": "code",
   "execution_count": 30,
   "metadata": {},
   "outputs": [
    {
     "data": {
      "text/html": [
       "<div>\n",
       "<style scoped>\n",
       "    .dataframe tbody tr th:only-of-type {\n",
       "        vertical-align: middle;\n",
       "    }\n",
       "\n",
       "    .dataframe tbody tr th {\n",
       "        vertical-align: top;\n",
       "    }\n",
       "\n",
       "    .dataframe thead th {\n",
       "        text-align: right;\n",
       "    }\n",
       "</style>\n",
       "<table border=\"1\" class=\"dataframe\">\n",
       "  <thead>\n",
       "    <tr style=\"text-align: right;\">\n",
       "      <th></th>\n",
       "      <th>station_id</th>\n",
       "      <th>date</th>\n",
       "      <th>element</th>\n",
       "      <th>value</th>\n",
       "      <th>m_flag</th>\n",
       "      <th>q_flag</th>\n",
       "      <th>s_flag</th>\n",
       "      <th>time</th>\n",
       "    </tr>\n",
       "  </thead>\n",
       "  <tbody>\n",
       "    <tr>\n",
       "      <th>0</th>\n",
       "      <td>AE000041196</td>\n",
       "      <td>2010-01-01</td>\n",
       "      <td>TMAX</td>\n",
       "      <td>259</td>\n",
       "      <td>None</td>\n",
       "      <td>None</td>\n",
       "      <td>S</td>\n",
       "      <td>None</td>\n",
       "    </tr>\n",
       "    <tr>\n",
       "      <th>1</th>\n",
       "      <td>AE000041196</td>\n",
       "      <td>2010-01-01</td>\n",
       "      <td>TMIN</td>\n",
       "      <td>120</td>\n",
       "      <td>None</td>\n",
       "      <td>None</td>\n",
       "      <td>S</td>\n",
       "      <td>None</td>\n",
       "    </tr>\n",
       "    <tr>\n",
       "      <th>2</th>\n",
       "      <td>AE000041196</td>\n",
       "      <td>2010-01-01</td>\n",
       "      <td>TAVG</td>\n",
       "      <td>181</td>\n",
       "      <td>H</td>\n",
       "      <td>None</td>\n",
       "      <td>S</td>\n",
       "      <td>None</td>\n",
       "    </tr>\n",
       "    <tr>\n",
       "      <th>3</th>\n",
       "      <td>AEM00041194</td>\n",
       "      <td>2010-01-01</td>\n",
       "      <td>TMAX</td>\n",
       "      <td>250</td>\n",
       "      <td>None</td>\n",
       "      <td>None</td>\n",
       "      <td>S</td>\n",
       "      <td>None</td>\n",
       "    </tr>\n",
       "    <tr>\n",
       "      <th>4</th>\n",
       "      <td>AEM00041194</td>\n",
       "      <td>2010-01-01</td>\n",
       "      <td>TMIN</td>\n",
       "      <td>168</td>\n",
       "      <td>None</td>\n",
       "      <td>None</td>\n",
       "      <td>S</td>\n",
       "      <td>None</td>\n",
       "    </tr>\n",
       "    <tr>\n",
       "      <th>5</th>\n",
       "      <td>AEM00041194</td>\n",
       "      <td>2010-01-01</td>\n",
       "      <td>PRCP</td>\n",
       "      <td>0</td>\n",
       "      <td>None</td>\n",
       "      <td>None</td>\n",
       "      <td>S</td>\n",
       "      <td>None</td>\n",
       "    </tr>\n",
       "    <tr>\n",
       "      <th>6</th>\n",
       "      <td>AEM00041194</td>\n",
       "      <td>2010-01-01</td>\n",
       "      <td>TAVG</td>\n",
       "      <td>194</td>\n",
       "      <td>H</td>\n",
       "      <td>None</td>\n",
       "      <td>S</td>\n",
       "      <td>None</td>\n",
       "    </tr>\n",
       "    <tr>\n",
       "      <th>7</th>\n",
       "      <td>AEM00041217</td>\n",
       "      <td>2010-01-01</td>\n",
       "      <td>TMAX</td>\n",
       "      <td>250</td>\n",
       "      <td>None</td>\n",
       "      <td>None</td>\n",
       "      <td>S</td>\n",
       "      <td>None</td>\n",
       "    </tr>\n",
       "    <tr>\n",
       "      <th>8</th>\n",
       "      <td>AEM00041217</td>\n",
       "      <td>2010-01-01</td>\n",
       "      <td>TMIN</td>\n",
       "      <td>146</td>\n",
       "      <td>None</td>\n",
       "      <td>None</td>\n",
       "      <td>S</td>\n",
       "      <td>None</td>\n",
       "    </tr>\n",
       "    <tr>\n",
       "      <th>9</th>\n",
       "      <td>AEM00041217</td>\n",
       "      <td>2010-01-01</td>\n",
       "      <td>TAVG</td>\n",
       "      <td>199</td>\n",
       "      <td>H</td>\n",
       "      <td>None</td>\n",
       "      <td>S</td>\n",
       "      <td>None</td>\n",
       "    </tr>\n",
       "  </tbody>\n",
       "</table>\n",
       "</div>"
      ],
      "text/plain": [
       "    station_id        date element  value m_flag q_flag s_flag  time\n",
       "0  AE000041196  2010-01-01    TMAX    259   None   None      S  None\n",
       "1  AE000041196  2010-01-01    TMIN    120   None   None      S  None\n",
       "2  AE000041196  2010-01-01    TAVG    181      H   None      S  None\n",
       "3  AEM00041194  2010-01-01    TMAX    250   None   None      S  None\n",
       "4  AEM00041194  2010-01-01    TMIN    168   None   None      S  None\n",
       "5  AEM00041194  2010-01-01    PRCP      0   None   None      S  None\n",
       "6  AEM00041194  2010-01-01    TAVG    194      H   None      S  None\n",
       "7  AEM00041217  2010-01-01    TMAX    250   None   None      S  None\n",
       "8  AEM00041217  2010-01-01    TMIN    146   None   None      S  None\n",
       "9  AEM00041217  2010-01-01    TAVG    199      H   None      S  None"
      ]
     },
     "metadata": {},
     "output_type": "display_data"
    }
   ],
   "source": [
    "# load all of daily\n",
    "schema_daily = StructType([\n",
    "    StructField(\"station_id\", StringType(), True),\n",
    "    StructField(\"date\", DateType(), True), # load as date type this time as using date in later query\n",
    "    StructField(\"element\", StringType(), True),\n",
    "    StructField(\"value\", IntegerType(), True),\n",
    "    StructField(\"m_flag\", StringType(), True),\n",
    "    StructField(\"q_flag\", StringType(), True),\n",
    "    StructField(\"s_flag\", StringType(), True),\n",
    "    StructField(\"time\", StringType(), True)\n",
    "])\n",
    "\n",
    "daily_all = (\n",
    "    spark.read.format(\"com.databricks.spark.csv\")\n",
    "    .option(\"header\", \"false\")\n",
    "    .option(\"inferSchema\", \"false\")\n",
    "    .option(\"dateFormat\", \"yyyyMMdd\")\n",
    "    .schema(schema_daily)\n",
    "    .load(\"hdfs:///data/ghcnd/daily/*.csv.gz\") # all .csv.gz files in the folder\n",
    ")\n",
    "   \n",
    "show_as_html(daily_all, 10)"
   ]
  },
  {
   "cell_type": "code",
   "execution_count": 5,
   "metadata": {},
   "outputs": [
    {
     "data": {
      "text/plain": [
       "3103954141"
      ]
     },
     "execution_count": 5,
     "metadata": {},
     "output_type": "execute_result"
    }
   ],
   "source": [
    "# count all of daily\n",
    "daily_all.count()"
   ]
  },
  {
   "cell_type": "markdown",
   "metadata": {},
   "source": [
    "### Q4 (b)"
   ]
  },
  {
   "cell_type": "code",
   "execution_count": 6,
   "metadata": {},
   "outputs": [
    {
     "data": {
      "text/html": [
       "<div>\n",
       "<style scoped>\n",
       "    .dataframe tbody tr th:only-of-type {\n",
       "        vertical-align: middle;\n",
       "    }\n",
       "\n",
       "    .dataframe tbody tr th {\n",
       "        vertical-align: top;\n",
       "    }\n",
       "\n",
       "    .dataframe thead th {\n",
       "        text-align: right;\n",
       "    }\n",
       "</style>\n",
       "<table border=\"1\" class=\"dataframe\">\n",
       "  <thead>\n",
       "    <tr style=\"text-align: right;\">\n",
       "      <th></th>\n",
       "      <th>station_id</th>\n",
       "      <th>date</th>\n",
       "      <th>element</th>\n",
       "      <th>value</th>\n",
       "      <th>m_flag</th>\n",
       "      <th>q_flag</th>\n",
       "      <th>s_flag</th>\n",
       "      <th>time</th>\n",
       "    </tr>\n",
       "  </thead>\n",
       "  <tbody>\n",
       "    <tr>\n",
       "      <th>0</th>\n",
       "      <td>AE000041196</td>\n",
       "      <td>2010-01-01</td>\n",
       "      <td>TMAX</td>\n",
       "      <td>259</td>\n",
       "      <td>None</td>\n",
       "      <td>None</td>\n",
       "      <td>S</td>\n",
       "      <td>None</td>\n",
       "    </tr>\n",
       "    <tr>\n",
       "      <th>1</th>\n",
       "      <td>AE000041196</td>\n",
       "      <td>2010-01-01</td>\n",
       "      <td>TMIN</td>\n",
       "      <td>120</td>\n",
       "      <td>None</td>\n",
       "      <td>None</td>\n",
       "      <td>S</td>\n",
       "      <td>None</td>\n",
       "    </tr>\n",
       "    <tr>\n",
       "      <th>2</th>\n",
       "      <td>AEM00041194</td>\n",
       "      <td>2010-01-01</td>\n",
       "      <td>TMAX</td>\n",
       "      <td>250</td>\n",
       "      <td>None</td>\n",
       "      <td>None</td>\n",
       "      <td>S</td>\n",
       "      <td>None</td>\n",
       "    </tr>\n",
       "    <tr>\n",
       "      <th>3</th>\n",
       "      <td>AEM00041194</td>\n",
       "      <td>2010-01-01</td>\n",
       "      <td>TMIN</td>\n",
       "      <td>168</td>\n",
       "      <td>None</td>\n",
       "      <td>None</td>\n",
       "      <td>S</td>\n",
       "      <td>None</td>\n",
       "    </tr>\n",
       "    <tr>\n",
       "      <th>4</th>\n",
       "      <td>AEM00041194</td>\n",
       "      <td>2010-01-01</td>\n",
       "      <td>PRCP</td>\n",
       "      <td>0</td>\n",
       "      <td>None</td>\n",
       "      <td>None</td>\n",
       "      <td>S</td>\n",
       "      <td>None</td>\n",
       "    </tr>\n",
       "    <tr>\n",
       "      <th>5</th>\n",
       "      <td>AEM00041217</td>\n",
       "      <td>2010-01-01</td>\n",
       "      <td>TMAX</td>\n",
       "      <td>250</td>\n",
       "      <td>None</td>\n",
       "      <td>None</td>\n",
       "      <td>S</td>\n",
       "      <td>None</td>\n",
       "    </tr>\n",
       "    <tr>\n",
       "      <th>6</th>\n",
       "      <td>AEM00041217</td>\n",
       "      <td>2010-01-01</td>\n",
       "      <td>TMIN</td>\n",
       "      <td>146</td>\n",
       "      <td>None</td>\n",
       "      <td>None</td>\n",
       "      <td>S</td>\n",
       "      <td>None</td>\n",
       "    </tr>\n",
       "    <tr>\n",
       "      <th>7</th>\n",
       "      <td>AEM00041218</td>\n",
       "      <td>2010-01-01</td>\n",
       "      <td>TMAX</td>\n",
       "      <td>265</td>\n",
       "      <td>None</td>\n",
       "      <td>None</td>\n",
       "      <td>S</td>\n",
       "      <td>None</td>\n",
       "    </tr>\n",
       "    <tr>\n",
       "      <th>8</th>\n",
       "      <td>AG000060390</td>\n",
       "      <td>2010-01-01</td>\n",
       "      <td>TMAX</td>\n",
       "      <td>180</td>\n",
       "      <td>None</td>\n",
       "      <td>None</td>\n",
       "      <td>S</td>\n",
       "      <td>None</td>\n",
       "    </tr>\n",
       "    <tr>\n",
       "      <th>9</th>\n",
       "      <td>AG000060390</td>\n",
       "      <td>2010-01-01</td>\n",
       "      <td>PRCP</td>\n",
       "      <td>0</td>\n",
       "      <td>None</td>\n",
       "      <td>None</td>\n",
       "      <td>S</td>\n",
       "      <td>None</td>\n",
       "    </tr>\n",
       "  </tbody>\n",
       "</table>\n",
       "</div>"
      ],
      "text/plain": [
       "    station_id        date element  value m_flag q_flag s_flag  time\n",
       "0  AE000041196  2010-01-01    TMAX    259   None   None      S  None\n",
       "1  AE000041196  2010-01-01    TMIN    120   None   None      S  None\n",
       "2  AEM00041194  2010-01-01    TMAX    250   None   None      S  None\n",
       "3  AEM00041194  2010-01-01    TMIN    168   None   None      S  None\n",
       "4  AEM00041194  2010-01-01    PRCP      0   None   None      S  None\n",
       "5  AEM00041217  2010-01-01    TMAX    250   None   None      S  None\n",
       "6  AEM00041217  2010-01-01    TMIN    146   None   None      S  None\n",
       "7  AEM00041218  2010-01-01    TMAX    265   None   None      S  None\n",
       "8  AG000060390  2010-01-01    TMAX    180   None   None      S  None\n",
       "9  AG000060390  2010-01-01    PRCP      0   None   None      S  None"
      ]
     },
     "metadata": {},
     "output_type": "display_data"
    }
   ],
   "source": [
    "# find observations of the 5 core elements\n",
    "\n",
    "# create list of core elements\n",
    "core_elements = ['PRCP', 'SNOW', 'SNWD', 'TMAX', 'TMIN']\n",
    "\n",
    "# filter by element being in core_elements list\n",
    "daily_core = daily_all.filter(F.col(\"element\").isin(core_elements))\n",
    "\n",
    "show_as_html(daily_core, 10)"
   ]
  },
  {
   "cell_type": "code",
   "execution_count": 7,
   "metadata": {},
   "outputs": [
    {
     "data": {
      "text/html": [
       "<div>\n",
       "<style scoped>\n",
       "    .dataframe tbody tr th:only-of-type {\n",
       "        vertical-align: middle;\n",
       "    }\n",
       "\n",
       "    .dataframe tbody tr th {\n",
       "        vertical-align: top;\n",
       "    }\n",
       "\n",
       "    .dataframe thead th {\n",
       "        text-align: right;\n",
       "    }\n",
       "</style>\n",
       "<table border=\"1\" class=\"dataframe\">\n",
       "  <thead>\n",
       "    <tr style=\"text-align: right;\">\n",
       "      <th></th>\n",
       "      <th>element</th>\n",
       "      <th>count</th>\n",
       "    </tr>\n",
       "  </thead>\n",
       "  <tbody>\n",
       "    <tr>\n",
       "      <th>0</th>\n",
       "      <td>PRCP</td>\n",
       "      <td>1069105193</td>\n",
       "    </tr>\n",
       "    <tr>\n",
       "      <th>1</th>\n",
       "      <td>TMAX</td>\n",
       "      <td>455946095</td>\n",
       "    </tr>\n",
       "    <tr>\n",
       "      <th>2</th>\n",
       "      <td>SNWD</td>\n",
       "      <td>297846434</td>\n",
       "    </tr>\n",
       "    <tr>\n",
       "      <th>3</th>\n",
       "      <td>TMIN</td>\n",
       "      <td>454759421</td>\n",
       "    </tr>\n",
       "    <tr>\n",
       "      <th>4</th>\n",
       "      <td>SNOW</td>\n",
       "      <td>353904309</td>\n",
       "    </tr>\n",
       "  </tbody>\n",
       "</table>\n",
       "</div>"
      ],
      "text/plain": [
       "  element       count\n",
       "0    PRCP  1069105193\n",
       "1    TMAX   455946095\n",
       "2    SNWD   297846434\n",
       "3    TMIN   454759421\n",
       "4    SNOW   353904309"
      ]
     },
     "metadata": {},
     "output_type": "display_data"
    }
   ],
   "source": [
    "# how many observations of the core elements? And which has the most observations?\n",
    "daily_core_count = daily_core.groupBy(\"element\").count()\n",
    "\n",
    "show_as_html(daily_core_count)"
   ]
  },
  {
   "cell_type": "markdown",
   "metadata": {},
   "source": [
    "### Q4 (c)"
   ]
  },
  {
   "cell_type": "code",
   "execution_count": 8,
   "metadata": {},
   "outputs": [
    {
     "data": {
      "text/html": [
       "<div>\n",
       "<style scoped>\n",
       "    .dataframe tbody tr th:only-of-type {\n",
       "        vertical-align: middle;\n",
       "    }\n",
       "\n",
       "    .dataframe tbody tr th {\n",
       "        vertical-align: top;\n",
       "    }\n",
       "\n",
       "    .dataframe thead th {\n",
       "        text-align: right;\n",
       "    }\n",
       "</style>\n",
       "<table border=\"1\" class=\"dataframe\">\n",
       "  <thead>\n",
       "    <tr style=\"text-align: right;\">\n",
       "      <th></th>\n",
       "      <th>station_id</th>\n",
       "      <th>date</th>\n",
       "      <th>unique_elements</th>\n",
       "    </tr>\n",
       "  </thead>\n",
       "  <tbody>\n",
       "    <tr>\n",
       "      <th>0</th>\n",
       "      <td>ACW00011604</td>\n",
       "      <td>1949-04-06</td>\n",
       "      <td>[TMAX, TMIN, PRCP, SNWD, SNOW, WT16]</td>\n",
       "    </tr>\n",
       "    <tr>\n",
       "      <th>1</th>\n",
       "      <td>ACW00011604</td>\n",
       "      <td>1949-08-03</td>\n",
       "      <td>[PRCP, SNWD, SNOW]</td>\n",
       "    </tr>\n",
       "    <tr>\n",
       "      <th>2</th>\n",
       "      <td>ACW00011647</td>\n",
       "      <td>1957-11-10</td>\n",
       "      <td>[PRCP, SNWD, SNOW]</td>\n",
       "    </tr>\n",
       "    <tr>\n",
       "      <th>3</th>\n",
       "      <td>ACW00011647</td>\n",
       "      <td>1957-11-17</td>\n",
       "      <td>[PRCP, SNWD, SNOW]</td>\n",
       "    </tr>\n",
       "    <tr>\n",
       "      <th>4</th>\n",
       "      <td>ACW00011647</td>\n",
       "      <td>1957-12-05</td>\n",
       "      <td>[PRCP, SNWD, SNOW]</td>\n",
       "    </tr>\n",
       "    <tr>\n",
       "      <th>5</th>\n",
       "      <td>ACW00011647</td>\n",
       "      <td>1958-10-15</td>\n",
       "      <td>[PRCP, SNWD, SNOW]</td>\n",
       "    </tr>\n",
       "    <tr>\n",
       "      <th>6</th>\n",
       "      <td>ACW00011647</td>\n",
       "      <td>1959-12-23</td>\n",
       "      <td>[PRCP, SNWD, SNOW]</td>\n",
       "    </tr>\n",
       "    <tr>\n",
       "      <th>7</th>\n",
       "      <td>ACW00011647</td>\n",
       "      <td>1960-01-26</td>\n",
       "      <td>[PRCP, SNWD, SNOW]</td>\n",
       "    </tr>\n",
       "    <tr>\n",
       "      <th>8</th>\n",
       "      <td>ACW00011647</td>\n",
       "      <td>1960-09-09</td>\n",
       "      <td>[PRCP, SNWD, SNOW]</td>\n",
       "    </tr>\n",
       "    <tr>\n",
       "      <th>9</th>\n",
       "      <td>ACW00011647</td>\n",
       "      <td>1960-10-17</td>\n",
       "      <td>[PRCP, SNWD, SNOW]</td>\n",
       "    </tr>\n",
       "  </tbody>\n",
       "</table>\n",
       "</div>"
      ],
      "text/plain": [
       "    station_id        date                       unique_elements\n",
       "0  ACW00011604  1949-04-06  [TMAX, TMIN, PRCP, SNWD, SNOW, WT16]\n",
       "1  ACW00011604  1949-08-03                    [PRCP, SNWD, SNOW]\n",
       "2  ACW00011647  1957-11-10                    [PRCP, SNWD, SNOW]\n",
       "3  ACW00011647  1957-11-17                    [PRCP, SNWD, SNOW]\n",
       "4  ACW00011647  1957-12-05                    [PRCP, SNWD, SNOW]\n",
       "5  ACW00011647  1958-10-15                    [PRCP, SNWD, SNOW]\n",
       "6  ACW00011647  1959-12-23                    [PRCP, SNWD, SNOW]\n",
       "7  ACW00011647  1960-01-26                    [PRCP, SNWD, SNOW]\n",
       "8  ACW00011647  1960-09-09                    [PRCP, SNWD, SNOW]\n",
       "9  ACW00011647  1960-10-17                    [PRCP, SNWD, SNOW]"
      ]
     },
     "metadata": {},
     "output_type": "display_data"
    }
   ],
   "source": [
    "# create unique_elements table that combines all the elements collected by each station on each day through collect_set\n",
    "daily_element_set = daily_all.groupBy(\"station_id\", \"date\").agg(F.collect_set(F.col(\"element\")).alias(\"unique_elements\"))\n",
    "\n",
    "show_as_html(daily_element_set, 10)"
   ]
  },
  {
   "cell_type": "code",
   "execution_count": 10,
   "metadata": {},
   "outputs": [
    {
     "data": {
      "text/html": [
       "<div>\n",
       "<style scoped>\n",
       "    .dataframe tbody tr th:only-of-type {\n",
       "        vertical-align: middle;\n",
       "    }\n",
       "\n",
       "    .dataframe tbody tr th {\n",
       "        vertical-align: top;\n",
       "    }\n",
       "\n",
       "    .dataframe thead th {\n",
       "        text-align: right;\n",
       "    }\n",
       "</style>\n",
       "<table border=\"1\" class=\"dataframe\">\n",
       "  <thead>\n",
       "    <tr style=\"text-align: right;\">\n",
       "      <th></th>\n",
       "      <th>station_id</th>\n",
       "      <th>date</th>\n",
       "      <th>unique_elements</th>\n",
       "    </tr>\n",
       "  </thead>\n",
       "  <tbody>\n",
       "    <tr>\n",
       "      <th>0</th>\n",
       "      <td>AE000041196</td>\n",
       "      <td>1963-03-10</td>\n",
       "      <td>[TMIN, TAVG]</td>\n",
       "    </tr>\n",
       "    <tr>\n",
       "      <th>1</th>\n",
       "      <td>AE000041196</td>\n",
       "      <td>1963-06-15</td>\n",
       "      <td>[TMIN, TAVG]</td>\n",
       "    </tr>\n",
       "    <tr>\n",
       "      <th>2</th>\n",
       "      <td>AE000041196</td>\n",
       "      <td>1963-07-17</td>\n",
       "      <td>[TMIN, TAVG]</td>\n",
       "    </tr>\n",
       "    <tr>\n",
       "      <th>3</th>\n",
       "      <td>AE000041196</td>\n",
       "      <td>1964-04-18</td>\n",
       "      <td>[TMIN, TAVG]</td>\n",
       "    </tr>\n",
       "    <tr>\n",
       "      <th>4</th>\n",
       "      <td>AE000041196</td>\n",
       "      <td>1964-04-19</td>\n",
       "      <td>[TMIN, TAVG]</td>\n",
       "    </tr>\n",
       "    <tr>\n",
       "      <th>5</th>\n",
       "      <td>AE000041196</td>\n",
       "      <td>1965-06-08</td>\n",
       "      <td>[TMIN, TAVG]</td>\n",
       "    </tr>\n",
       "    <tr>\n",
       "      <th>6</th>\n",
       "      <td>AE000041196</td>\n",
       "      <td>1968-03-13</td>\n",
       "      <td>[TMIN, TAVG]</td>\n",
       "    </tr>\n",
       "    <tr>\n",
       "      <th>7</th>\n",
       "      <td>AE000041196</td>\n",
       "      <td>1968-10-05</td>\n",
       "      <td>[TMIN, TAVG]</td>\n",
       "    </tr>\n",
       "    <tr>\n",
       "      <th>8</th>\n",
       "      <td>AE000041196</td>\n",
       "      <td>1982-03-18</td>\n",
       "      <td>[TMIN, TAVG]</td>\n",
       "    </tr>\n",
       "    <tr>\n",
       "      <th>9</th>\n",
       "      <td>AE000041196</td>\n",
       "      <td>1997-06-07</td>\n",
       "      <td>[TMIN, TAVG]</td>\n",
       "    </tr>\n",
       "  </tbody>\n",
       "</table>\n",
       "</div>"
      ],
      "text/plain": [
       "    station_id        date unique_elements\n",
       "0  AE000041196  1963-03-10    [TMIN, TAVG]\n",
       "1  AE000041196  1963-06-15    [TMIN, TAVG]\n",
       "2  AE000041196  1963-07-17    [TMIN, TAVG]\n",
       "3  AE000041196  1964-04-18    [TMIN, TAVG]\n",
       "4  AE000041196  1964-04-19    [TMIN, TAVG]\n",
       "5  AE000041196  1965-06-08    [TMIN, TAVG]\n",
       "6  AE000041196  1968-03-13    [TMIN, TAVG]\n",
       "7  AE000041196  1968-10-05    [TMIN, TAVG]\n",
       "8  AE000041196  1982-03-18    [TMIN, TAVG]\n",
       "9  AE000041196  1997-06-07    [TMIN, TAVG]"
      ]
     },
     "metadata": {},
     "output_type": "display_data"
    }
   ],
   "source": [
    "# filter for rows where TMIN in collected but not TMAX\n",
    "tmin_not_max = (\n",
    "    daily_element_set.filter(F.array_contains(F.col(\"unique_elements\"), \"TMIN\") \n",
    "                             & ~F.array_contains(F.col(\"unique_elements\"), \"TMAX\"))\n",
    ")\n",
    "\n",
    "show_as_html(tmin_not_max, 10)"
   ]
  },
  {
   "cell_type": "code",
   "execution_count": 11,
   "metadata": {},
   "outputs": [
    {
     "data": {
      "text/plain": [
       "9322723"
      ]
     },
     "execution_count": 11,
     "metadata": {},
     "output_type": "execute_result"
    }
   ],
   "source": [
    "# count observations\n",
    "tmin_not_max.count()"
   ]
  },
  {
   "cell_type": "code",
   "execution_count": 12,
   "metadata": {},
   "outputs": [
    {
     "data": {
      "text/plain": [
       "27927"
      ]
     },
     "execution_count": 12,
     "metadata": {},
     "output_type": "execute_result"
    }
   ],
   "source": [
    "# count unique stations\n",
    "tmin_not_max.select(\"station_id\").distinct().count()"
   ]
  },
  {
   "cell_type": "markdown",
   "metadata": {},
   "source": [
    "### Q4 (d)"
   ]
  },
  {
   "cell_type": "code",
   "execution_count": 31,
   "metadata": {},
   "outputs": [
    {
     "data": {
      "text/html": [
       "<div>\n",
       "<style scoped>\n",
       "    .dataframe tbody tr th:only-of-type {\n",
       "        vertical-align: middle;\n",
       "    }\n",
       "\n",
       "    .dataframe tbody tr th {\n",
       "        vertical-align: top;\n",
       "    }\n",
       "\n",
       "    .dataframe thead th {\n",
       "        text-align: right;\n",
       "    }\n",
       "</style>\n",
       "<table border=\"1\" class=\"dataframe\">\n",
       "  <thead>\n",
       "    <tr style=\"text-align: right;\">\n",
       "      <th></th>\n",
       "      <th>station_id</th>\n",
       "      <th>state_code</th>\n",
       "      <th>country_code</th>\n",
       "      <th>latitude</th>\n",
       "      <th>longitude</th>\n",
       "      <th>elevation</th>\n",
       "      <th>name</th>\n",
       "      <th>gsn_flag</th>\n",
       "      <th>hcn_crn_flag</th>\n",
       "      <th>wmo_id</th>\n",
       "      <th>country_name</th>\n",
       "      <th>state_name</th>\n",
       "      <th>first_year_active</th>\n",
       "      <th>last_year_active</th>\n",
       "      <th>no_unique_elements</th>\n",
       "      <th>unique_elements</th>\n",
       "      <th>core_element_count</th>\n",
       "      <th>other_element_count</th>\n",
       "      <th>PRCP_only</th>\n",
       "    </tr>\n",
       "  </thead>\n",
       "  <tbody>\n",
       "    <tr>\n",
       "      <th>0</th>\n",
       "      <td>AE000041196</td>\n",
       "      <td>None</td>\n",
       "      <td>AE</td>\n",
       "      <td>25.333</td>\n",
       "      <td>55.517</td>\n",
       "      <td>34.0</td>\n",
       "      <td>SHARJAH INTER. AIRP</td>\n",
       "      <td>GSN</td>\n",
       "      <td>None</td>\n",
       "      <td>41196</td>\n",
       "      <td>United Arab Emirates</td>\n",
       "      <td>None</td>\n",
       "      <td>1944</td>\n",
       "      <td>2024</td>\n",
       "      <td>4</td>\n",
       "      <td>TMAX,TMIN,PRCP,TAVG</td>\n",
       "      <td>3</td>\n",
       "      <td>1</td>\n",
       "      <td>None</td>\n",
       "    </tr>\n",
       "    <tr>\n",
       "      <th>1</th>\n",
       "      <td>AEM00041218</td>\n",
       "      <td>None</td>\n",
       "      <td>AE</td>\n",
       "      <td>24.262</td>\n",
       "      <td>55.609</td>\n",
       "      <td>264.9</td>\n",
       "      <td>AL AIN INTL</td>\n",
       "      <td>None</td>\n",
       "      <td>None</td>\n",
       "      <td>41218</td>\n",
       "      <td>United Arab Emirates</td>\n",
       "      <td>None</td>\n",
       "      <td>1994</td>\n",
       "      <td>2024</td>\n",
       "      <td>4</td>\n",
       "      <td>TMAX,TMIN,PRCP,TAVG</td>\n",
       "      <td>3</td>\n",
       "      <td>1</td>\n",
       "      <td>None</td>\n",
       "    </tr>\n",
       "    <tr>\n",
       "      <th>2</th>\n",
       "      <td>AGE00147715</td>\n",
       "      <td>None</td>\n",
       "      <td>AG</td>\n",
       "      <td>35.42</td>\n",
       "      <td>8.1197</td>\n",
       "      <td>863.0</td>\n",
       "      <td>TEBESSA</td>\n",
       "      <td>None</td>\n",
       "      <td>None</td>\n",
       "      <td>None</td>\n",
       "      <td>Algeria</td>\n",
       "      <td>None</td>\n",
       "      <td>1879</td>\n",
       "      <td>1938</td>\n",
       "      <td>3</td>\n",
       "      <td>TMAX,TMIN,PRCP</td>\n",
       "      <td>3</td>\n",
       "      <td>0</td>\n",
       "      <td>None</td>\n",
       "    </tr>\n",
       "    <tr>\n",
       "      <th>3</th>\n",
       "      <td>AGE00147794</td>\n",
       "      <td>None</td>\n",
       "      <td>AG</td>\n",
       "      <td>36.78</td>\n",
       "      <td>5.1</td>\n",
       "      <td>225.0</td>\n",
       "      <td>BEJAIA-CAP CARBON</td>\n",
       "      <td>None</td>\n",
       "      <td>None</td>\n",
       "      <td>None</td>\n",
       "      <td>Algeria</td>\n",
       "      <td>None</td>\n",
       "      <td>1926</td>\n",
       "      <td>1938</td>\n",
       "      <td>2</td>\n",
       "      <td>TMAX,TMIN</td>\n",
       "      <td>2</td>\n",
       "      <td>0</td>\n",
       "      <td>None</td>\n",
       "    </tr>\n",
       "    <tr>\n",
       "      <th>4</th>\n",
       "      <td>AGM00060402</td>\n",
       "      <td>None</td>\n",
       "      <td>AG</td>\n",
       "      <td>36.712</td>\n",
       "      <td>5.07</td>\n",
       "      <td>6.1</td>\n",
       "      <td>SOUMMAM</td>\n",
       "      <td>None</td>\n",
       "      <td>None</td>\n",
       "      <td>60402</td>\n",
       "      <td>Algeria</td>\n",
       "      <td>None</td>\n",
       "      <td>1973</td>\n",
       "      <td>2024</td>\n",
       "      <td>5</td>\n",
       "      <td>TMAX,TMIN,\u0000\u0000\u0000\u0000,PRCP,SNWD</td>\n",
       "      <td>4</td>\n",
       "      <td>1</td>\n",
       "      <td>None</td>\n",
       "    </tr>\n",
       "  </tbody>\n",
       "</table>\n",
       "</div>"
      ],
      "text/plain": [
       "    station_id state_code country_code latitude longitude elevation  \\\n",
       "0  AE000041196       None           AE   25.333    55.517      34.0   \n",
       "1  AEM00041218       None           AE   24.262    55.609     264.9   \n",
       "2  AGE00147715       None           AG    35.42    8.1197     863.0   \n",
       "3  AGE00147794       None           AG    36.78       5.1     225.0   \n",
       "4  AGM00060402       None           AG   36.712      5.07       6.1   \n",
       "\n",
       "                  name gsn_flag hcn_crn_flag wmo_id          country_name  \\\n",
       "0  SHARJAH INTER. AIRP      GSN         None  41196  United Arab Emirates   \n",
       "1          AL AIN INTL     None         None  41218  United Arab Emirates   \n",
       "2              TEBESSA     None         None   None               Algeria   \n",
       "3    BEJAIA-CAP CARBON     None         None   None               Algeria   \n",
       "4              SOUMMAM     None         None  60402               Algeria   \n",
       "\n",
       "  state_name first_year_active last_year_active no_unique_elements  \\\n",
       "0       None              1944             2024                  4   \n",
       "1       None              1994             2024                  4   \n",
       "2       None              1879             1938                  3   \n",
       "3       None              1926             1938                  2   \n",
       "4       None              1973             2024                  5   \n",
       "\n",
       "            unique_elements core_element_count other_element_count PRCP_only  \n",
       "0       TMAX,TMIN,PRCP,TAVG                  3                   1      None  \n",
       "1       TMAX,TMIN,PRCP,TAVG                  3                   1      None  \n",
       "2            TMAX,TMIN,PRCP                  3                   0      None  \n",
       "3                 TMAX,TMIN                  2                   0      None  \n",
       "4  TMAX,TMIN,\u0000\u0000\u0000\u0000,PRCP,SNWD                  4                   1      None  "
      ]
     },
     "metadata": {},
     "output_type": "display_data"
    }
   ],
   "source": [
    "# load enhanced stations table\n",
    "stations = (\n",
    "    spark\n",
    "    .read\n",
    "    .option(\"header\", \"true\")\n",
    "    .csv(\"hdfs:///user/dcp31/assignment_1/stations1\")\n",
    ")\n",
    "\n",
    "show_as_html(stations, 5)\n"
   ]
  },
  {
   "cell_type": "code",
   "execution_count": 7,
   "metadata": {},
   "outputs": [
    {
     "name": "stdout",
     "output_type": "stream",
     "text": [
      "+-----------+----------+-------+-----+\n",
      "| station_id|      date|element|value|\n",
      "+-----------+----------+-------+-----+\n",
      "|AE000041196|2010-01-01|   TMAX|  259|\n",
      "|AE000041196|2010-01-01|   TMIN|  120|\n",
      "|AEM00041194|2010-01-01|   TMAX|  250|\n",
      "|AEM00041194|2010-01-01|   TMIN|  168|\n",
      "|AEM00041217|2010-01-01|   TMAX|  250|\n",
      "|AEM00041217|2010-01-01|   TMIN|  146|\n",
      "|AEM00041218|2010-01-01|   TMAX|  265|\n",
      "|AG000060390|2010-01-01|   TMAX|  180|\n",
      "|AG000060590|2010-01-01|   TMAX|  240|\n",
      "|AG000060590|2010-01-01|   TMIN|   40|\n",
      "+-----------+----------+-------+-----+\n",
      "only showing top 10 rows\n",
      "\n"
     ]
    }
   ],
   "source": [
    "# select only the required columns before joining therefore making dataset smaller\n",
    "# filter for observations of TMIN and TMAX\n",
    "filtered_daily = daily_all.select(\"station_id\", \"date\", \"element\", \"value\").filter(\n",
    "    (F.col(\"element\") == \"TMIN\") | (F.col(\"element\") == \"TMAX\")\n",
    ")\n",
    "\n",
    "filtered_daily.show(10)"
   ]
  },
  {
   "cell_type": "code",
   "execution_count": 8,
   "metadata": {},
   "outputs": [
    {
     "name": "stdout",
     "output_type": "stream",
     "text": [
      "+-----------+-------------------+\n",
      "| station_id|               name|\n",
      "+-----------+-------------------+\n",
      "|NZ000093417|    PARAPARAUMU AWS|\n",
      "|NZM00093781|  CHRISTCHURCH INTL|\n",
      "|NZ000939450|CAMPBELL ISLAND AWS|\n",
      "|NZM00093929| ENDERBY ISLAND AWS|\n",
      "|NZ000933090|   NEW PLYMOUTH AWS|\n",
      "|NZ000093844|INVERCARGILL AIRPOR|\n",
      "|NZ000093994| RAOUL ISL/KERMADEC|\n",
      "|NZ000937470|         TARA HILLS|\n",
      "|NZ000939870|CHATHAM ISLANDS AWS|\n",
      "|NZ000093292| GISBORNE AERODROME|\n",
      "|NZM00093439|WELLINGTON AERO AWS|\n",
      "|NZ000936150| HOKITIKA AERODROME|\n",
      "|NZM00093678|           KAIKOURA|\n",
      "|NZM00093110|  AUCKLAND AERO AWS|\n",
      "|NZ000093012|            KAITAIA|\n",
      "+-----------+-------------------+\n",
      "\n"
     ]
    }
   ],
   "source": [
    "# filter stations for 'New Zealand' \n",
    "stations_NZ = stations.select(\"station_id\", \"name\").filter(F.col(\"country_name\") == \"New Zealand\")\n",
    "\n",
    "stations_NZ.show(15)"
   ]
  },
  {
   "cell_type": "code",
   "execution_count": 9,
   "metadata": {},
   "outputs": [
    {
     "name": "stdout",
     "output_type": "stream",
     "text": [
      "+-----------+----------+-------+-----+-------------------+\n",
      "| station_id|      date|element|value|               name|\n",
      "+-----------+----------+-------+-----+-------------------+\n",
      "|NZ000093292|2010-01-01|   TMAX|  297| GISBORNE AERODROME|\n",
      "|NZ000093292|2010-01-01|   TMIN|   74| GISBORNE AERODROME|\n",
      "|NZ000093417|2010-01-01|   TMAX|  180|    PARAPARAUMU AWS|\n",
      "|NZ000093417|2010-01-01|   TMIN|  125|    PARAPARAUMU AWS|\n",
      "|NZ000093844|2010-01-01|   TMAX|  232|INVERCARGILL AIRPOR|\n",
      "|NZ000093844|2010-01-01|   TMIN|   96|INVERCARGILL AIRPOR|\n",
      "|NZ000933090|2010-01-01|   TMAX|  197|   NEW PLYMOUTH AWS|\n",
      "|NZ000933090|2010-01-01|   TMIN|   82|   NEW PLYMOUTH AWS|\n",
      "|NZ000936150|2010-01-01|   TMAX|  324| HOKITIKA AERODROME|\n",
      "|NZM00093110|2010-01-01|   TMAX|  215|  AUCKLAND AERO AWS|\n",
      "+-----------+----------+-------+-----+-------------------+\n",
      "only showing top 10 rows\n",
      "\n"
     ]
    }
   ],
   "source": [
    "# use broadcast join to join daily obs and NZ obs, with NZ obs being boradcast as it's the smaller table\n",
    "daily_NZ = filtered_daily.join(F.broadcast(stations_NZ), \"station_id\", \"inner\")\n",
    "\n",
    "daily_NZ.show(10)"
   ]
  },
  {
   "cell_type": "code",
   "execution_count": 17,
   "metadata": {},
   "outputs": [
    {
     "data": {
      "text/plain": [
       "485520"
      ]
     },
     "execution_count": 17,
     "metadata": {},
     "output_type": "execute_result"
    }
   ],
   "source": [
    "# number of observations\n",
    "daily_NZ.count()"
   ]
  },
  {
   "cell_type": "code",
   "execution_count": 11,
   "metadata": {},
   "outputs": [
    {
     "data": {
      "text/plain": [
       "85"
      ]
     },
     "execution_count": 11,
     "metadata": {},
     "output_type": "execute_result"
    }
   ],
   "source": [
    "# count number of years covered\n",
    "# create new column 'year' which is extracted from column 'date'\n",
    "daily_NZ = daily_NZ.withColumn(\"year\", F.year(F.col(\"date\")))\n",
    "\n",
    "# count years\n",
    "daily_NZ.select(\"year\").distinct().count()"
   ]
  },
  {
   "cell_type": "code",
   "execution_count": 12,
   "metadata": {},
   "outputs": [
    {
     "name": "stdout",
     "output_type": "stream",
     "text": [
      "+---------+\n",
      "|min(year)|\n",
      "+---------+\n",
      "|     1940|\n",
      "+---------+\n",
      "\n",
      "None\n",
      "+---------+\n",
      "|max(year)|\n",
      "+---------+\n",
      "|     2024|\n",
      "+---------+\n",
      "\n",
      "None\n"
     ]
    }
   ],
   "source": [
    "# find min and max years\n",
    "min_year = daily_NZ.select(F.min(F.col(\"year\")))\n",
    "max_year = daily_NZ.select(F.max(F.col(\"year\")))\n",
    "\n",
    "min_year.show()\n",
    "max_year.show()"
   ]
  },
  {
   "cell_type": "code",
   "execution_count": null,
   "metadata": {},
   "outputs": [],
   "source": [
    "# had difficulty getting data to save as 1 file. Tried a few options - found this on the internet\n",
    "\n",
    "# (\n",
    "#     daily_NZ.repartition(1)\n",
    "#     .write\n",
    "#     .format(\"com.databricks.spark.csv\")\n",
    "#     .option(\"header\", \"true\")\n",
    "#     .option(\"compression\", \"gzip\")\n",
    "#     .save(\"/user/dcp31/assignment_1a/daily_NZ.csv\")\n",
    "# )"
   ]
  },
  {
   "cell_type": "code",
   "execution_count": 30,
   "metadata": {},
   "outputs": [],
   "source": [
    "#!hdfs dfs -get /user/dcp31/assignment_1a/daily_NZ.csv /users/home/dcp31/assignment_1/"
   ]
  },
  {
   "cell_type": "markdown",
   "metadata": {},
   "source": [
    "### Q4 (e)"
   ]
  },
  {
   "cell_type": "code",
   "execution_count": 32,
   "metadata": {},
   "outputs": [
    {
     "name": "stdout",
     "output_type": "stream",
     "text": [
      "+-----------+----------+-----+----+\n",
      "| station_id|      date|value|year|\n",
      "+-----------+----------+-----+----+\n",
      "|AEM00041194|2010-01-01|    0|2010|\n",
      "|AG000060390|2010-01-01|    0|2010|\n",
      "|AG000060590|2010-01-01|    0|2010|\n",
      "|AG000060611|2010-01-01|    0|2010|\n",
      "|AGE00147708|2010-01-01|    5|2010|\n",
      "|AGE00147716|2010-01-01|    5|2010|\n",
      "|AGE00147718|2010-01-01|    0|2010|\n",
      "|AGM00060351|2010-01-01|    0|2010|\n",
      "|AGM00060355|2010-01-01|    0|2010|\n",
      "|AGM00060360|2010-01-01|    0|2010|\n",
      "+-----------+----------+-----+----+\n",
      "only showing top 10 rows\n",
      "\n"
     ]
    }
   ],
   "source": [
    "# filter daily for observations of PRCP. Group by station_id, date and value. Create new column 'year' extracted from date. \n",
    "daily_precip = (\n",
    "    daily_all.select(\"station_id\", \"date\", \"value\")\n",
    "    .filter(F.col(\"element\") == \"PRCP\")\n",
    "    .withColumn(\"year\", F.year(F.col(\"date\")))\n",
    ")\n",
    "\n",
    "daily_precip.show(10)"
   ]
  },
  {
   "cell_type": "code",
   "execution_count": 33,
   "metadata": {},
   "outputs": [
    {
     "name": "stdout",
     "output_type": "stream",
     "text": [
      "+-----------+--------------------+------------+\n",
      "| station_id|        country_name|country_code|\n",
      "+-----------+--------------------+------------+\n",
      "|AE000041196|United Arab Emirates|          AE|\n",
      "|AEM00041218|United Arab Emirates|          AE|\n",
      "|AGE00147715|             Algeria|          AG|\n",
      "|AGE00147794|             Algeria|          AG|\n",
      "|AGM00060402|             Algeria|          AG|\n",
      "|AGM00060430|             Algeria|          AG|\n",
      "|AGM00060461|             Algeria|          AG|\n",
      "|AGM00060514|             Algeria|          AG|\n",
      "|AGM00060515|             Algeria|          AG|\n",
      "|AGM00060550|             Algeria|          AG|\n",
      "|AGM00060563|             Algeria|          AG|\n",
      "|AJ000037656|          Azerbaijan|          AJ|\n",
      "|AJ000037674|          Azerbaijan|          AJ|\n",
      "|AJ000037734|          Azerbaijan|          AJ|\n",
      "|AJ000037740|          Azerbaijan|          AJ|\n",
      "|AJ000037742|          Azerbaijan|          AJ|\n",
      "|AJ000037744|          Azerbaijan|          AJ|\n",
      "|AJ000037759|          Azerbaijan|          AJ|\n",
      "|AJ000037816|          Azerbaijan|          AJ|\n",
      "|AJ000037844|          Azerbaijan|          AJ|\n",
      "+-----------+--------------------+------------+\n",
      "only showing top 20 rows\n",
      "\n"
     ]
    }
   ],
   "source": [
    "#filter stations to keep only columns necessary\n",
    "filtered_stations = stations.select(\"station_id\", \"country_name\", \"country_code\")\n",
    "\n",
    "filtered_stations.show()"
   ]
  },
  {
   "cell_type": "code",
   "execution_count": 34,
   "metadata": {},
   "outputs": [
    {
     "name": "stdout",
     "output_type": "stream",
     "text": [
      "+-----------+----------+-----+----+--------------------+------------+\n",
      "| station_id|      date|value|year|        country_name|country_code|\n",
      "+-----------+----------+-----+----+--------------------+------------+\n",
      "|AEM00041194|2010-01-01|    0|2010|United Arab Emirates|          AE|\n",
      "|AG000060390|2010-01-01|    0|2010|             Algeria|          AG|\n",
      "|AG000060590|2010-01-01|    0|2010|             Algeria|          AG|\n",
      "|AG000060611|2010-01-01|    0|2010|             Algeria|          AG|\n",
      "|AGE00147708|2010-01-01|    5|2010|             Algeria|          AG|\n",
      "|AGE00147716|2010-01-01|    5|2010|             Algeria|          AG|\n",
      "|AGE00147718|2010-01-01|    0|2010|             Algeria|          AG|\n",
      "|AGM00060351|2010-01-01|    0|2010|             Algeria|          AG|\n",
      "|AGM00060355|2010-01-01|    0|2010|             Algeria|          AG|\n",
      "|AGM00060360|2010-01-01|    0|2010|             Algeria|          AG|\n",
      "+-----------+----------+-----+----+--------------------+------------+\n",
      "only showing top 10 rows\n",
      "\n"
     ]
    }
   ],
   "source": [
    "# use broadcast join, broadcasting smaller stations table for joining to filtered daily obs. \n",
    "df_precip = daily_precip.join(F.broadcast(filtered_stations), \"station_id\", \"inner\")\n",
    "\n",
    "df_precip.show(10)"
   ]
  },
  {
   "cell_type": "code",
   "execution_count": 35,
   "metadata": {},
   "outputs": [
    {
     "name": "stdout",
     "output_type": "stream",
     "text": [
      "+----+--------------------+------------+------------------+\n",
      "|year|        country_name|country_code|  average_rainfall|\n",
      "+----+--------------------+------------+------------------+\n",
      "|2000|   Equatorial Guinea|          EK|            4361.0|\n",
      "|1975|  Dominican Republic|          DR|            3414.0|\n",
      "|1974|                Laos|          LA|            2480.5|\n",
      "|1978|              Belize|          BH| 2244.714285714286|\n",
      "|1979|        Sint Maarten|          NN|            1967.0|\n",
      "|1974|          Costa Rica|          CS|            1820.0|\n",
      "|1979|              Belize|          BH|1755.5454545454545|\n",
      "|1973|            Suriname|          NS|            1710.0|\n",
      "|1978|             Curacao|          UC|1675.0384615384614|\n",
      "|1977|              Belize|          BH|1541.7142857142858|\n",
      "|1978|            Honduras|          HO|1469.6122448979593|\n",
      "|1977|             Curacao|          UC|1442.5384615384614|\n",
      "|1978|        Sint Maarten|          NN|1292.8695652173913|\n",
      "|1977|            Honduras|          HO| 1284.138888888889|\n",
      "|1978| Trinidad and Tobago|          TD|            1265.0|\n",
      "|1976|              Guyana|          GY|1213.3333333333333|\n",
      "|2022|        Sierra Leone|          SL|            1195.0|\n",
      "|1979|             Curacao|          UC|            1168.2|\n",
      "|1973|             Tunisia|          TS|            1162.0|\n",
      "|2006|               Burma|          BM|            1152.0|\n",
      "|2001|   Equatorial Guinea|          EK|            1100.0|\n",
      "|1980|        Sint Maarten|          NN| 1075.888888888889|\n",
      "|1977| Martinique [France]|          MB|           1045.32|\n",
      "|1995|United Arab Emirates|          AE|            1018.0|\n",
      "|1981|        Sint Maarten|          NN|          975.4375|\n",
      "|1981|             Curacao|          UC| 954.9473684210526|\n",
      "|1977|          Costa Rica|          CS|            953.68|\n",
      "|1977|        Sint Maarten|          NN| 923.2142857142857|\n",
      "|1977|             Jamaica|          JM| 921.6818181818181|\n",
      "|1994|               Qatar|          QA|             914.5|\n",
      "+----+--------------------+------------+------------------+\n",
      "only showing top 30 rows\n",
      "\n"
     ]
    }
   ],
   "source": [
    "#create table for average PRCP, grouping year, country and country code(only to keep country code in table), using function \n",
    "# average to calculated rainfall average. Ordering by highest rainfall.\n",
    "avg_precip = (\n",
    "    df_precip.groupBy(\"year\", \"country_name\", \"country_code\")\n",
    "    .agg(F.avg(\"value\").alias(\"average_rainfall\"))\n",
    "    .orderBy(F.desc(\"average_rainfall\"))\n",
    ")\n",
    "\n",
    "avg_precip.show(30)"
   ]
  },
  {
   "cell_type": "code",
   "execution_count": 24,
   "metadata": {},
   "outputs": [
    {
     "name": "stdout",
     "output_type": "stream",
     "text": [
      "+-----------+----------+-----+----+-----------------+------------+\n",
      "| station_id|      date|value|year|     country_name|country_code|\n",
      "+-----------+----------+-----+----+-----------------+------------+\n",
      "|EKM00064810|2000-06-22| 4361|2000|Equatorial Guinea|          EK|\n",
      "+-----------+----------+-----+----+-----------------+------------+\n",
      "\n"
     ]
    }
   ],
   "source": [
    "# how many observations went into Equatorial Guineas high rainfall average?\n",
    "# filter by country name and year\n",
    "EG_count = df_precip.filter(F.col(\"country_name\") == \"Equatorial Guinea\").filter(F.col(\"year\") == \"2000\")\n",
    "\n",
    "EG_count.show()"
   ]
  },
  {
   "cell_type": "code",
   "execution_count": 25,
   "metadata": {},
   "outputs": [
    {
     "name": "stdout",
     "output_type": "stream",
     "text": [
      "+-----------+----------+-----+----+------------------+------------+\n",
      "| station_id|      date|value|year|      country_name|country_code|\n",
      "+-----------+----------+-----+----+------------------+------------+\n",
      "|DRM00078486|1975-12-10| 3414|1975|Dominican Republic|          DR|\n",
      "+-----------+----------+-----+----+------------------+------------+\n",
      "\n"
     ]
    }
   ],
   "source": [
    "df_precip.filter(F.col(\"country_name\") == \"Dominican Republic\").filter(F.col(\"year\") == \"1975\").show()"
   ]
  },
  {
   "cell_type": "code",
   "execution_count": 36,
   "metadata": {},
   "outputs": [
    {
     "name": "stdout",
     "output_type": "stream",
     "text": [
      "+-----------+----------+-----+----+------------+------------+\n",
      "| station_id|      date|value|year|country_name|country_code|\n",
      "+-----------+----------+-----+----+------------+------------+\n",
      "|NUM00078741|2023-06-23|    0|2023|   Nicaragua|          NU|\n",
      "+-----------+----------+-----+----+------------+------------+\n",
      "\n"
     ]
    }
   ],
   "source": [
    "df_precip.filter(F.col(\"country_name\") == \"Nicaragua\").filter(F.col(\"year\") == \"2023\").show()"
   ]
  },
  {
   "cell_type": "code",
   "execution_count": 42,
   "metadata": {},
   "outputs": [],
   "source": [
    "# commented out so won't re-save when running notebook again\n",
    "\n",
    "# (\n",
    "#     avg_precip.repartition(1)\n",
    "#     .write\n",
    "#     .format(\"com.databricks.spark.csv\")\n",
    "#     .option(\"header\", \"true\")\n",
    "#     .option(\"compression\", \"gzip\")\n",
    "#     .mode(\"overwrite\")\n",
    "#     .save(\"/user/dcp31/assignment_1a/precip.csv\")\n",
    "# )"
   ]
  },
  {
   "cell_type": "code",
   "execution_count": 43,
   "metadata": {},
   "outputs": [],
   "source": [
    "# !hdfs dfs -get /user/dcp31/assignment_1a/precip.csv /users/home/dcp31/assignment_1c/"
   ]
  },
  {
   "cell_type": "code",
   "execution_count": 37,
   "metadata": {
    "scrolled": true
   },
   "outputs": [
    {
     "data": {
      "text/html": [
       "<p><b>Spark</b></p><p>The spark session is <b><span style=\"color:red\">stopped</span></b>, confirm that <code>dcp31 (jupyter)</code> is under the completed applications section in the Spark UI.</p><ul><li><a href=\"http://mathmadslinux2p.canterbury.ac.nz:8080/\" target=\"_blank\">Spark UI</a></li></ul>"
      ],
      "text/plain": [
       "<IPython.core.display.HTML object>"
      ]
     },
     "metadata": {},
     "output_type": "display_data"
    }
   ],
   "source": [
    "# Run this cell before closing the notebook or kill your spark application by hand using the link in the Spark UI\n",
    "\n",
    "stop_spark()"
   ]
  }
 ],
 "metadata": {
  "kernelspec": {
   "display_name": "Python 3",
   "language": "python",
   "name": "python3"
  },
  "language_info": {
   "codemirror_mode": {
    "name": "ipython",
    "version": 3
   },
   "file_extension": ".py",
   "mimetype": "text/x-python",
   "name": "python",
   "nbconvert_exporter": "python",
   "pygments_lexer": "ipython3",
   "version": "3.7.0"
  }
 },
 "nbformat": 4,
 "nbformat_minor": 4
}
